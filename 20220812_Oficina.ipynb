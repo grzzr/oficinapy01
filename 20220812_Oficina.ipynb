{
  "cells": [
    {
      "cell_type": "markdown",
      "metadata": {
        "id": "view-in-github",
        "colab_type": "text"
      },
      "source": [
        "<a href=\"https://colab.research.google.com/github/grzzr/oficinapy01/blob/main/20220812_Oficina.ipynb\" target=\"_parent\"><img src=\"https://colab.research.google.com/assets/colab-badge.svg\" alt=\"Open In Colab\"/></a>"
      ]
    },
    {
      "cell_type": "markdown",
      "id": "9a5a7c48-7dff-4857-bdbf-61a257664efd",
      "metadata": {
        "id": "9a5a7c48-7dff-4857-bdbf-61a257664efd"
      },
      "source": [
        "# Programação criativa\n"
      ]
    },
    {
      "cell_type": "markdown",
      "id": "d8d75b07-4d0c-4dae-907e-6f1e02aa7585",
      "metadata": {
        "id": "d8d75b07-4d0c-4dae-907e-6f1e02aa7585"
      },
      "source": [
        "O programa abaixo cria uma uma imagem e mostra ela na tela.\n",
        "\n",
        "Para rodar esse programa, clique na célula (caixa de texto) onde ele está e tecle <kbd>ctrl+enter</kbd>"
      ]
    },
    {
      "cell_type": "code",
      "execution_count": null,
      "id": "634da92d-65b6-4c9d-909c-3b52ee5bbeac",
      "metadata": {
        "id": "634da92d-65b6-4c9d-909c-3b52ee5bbeac"
      },
      "outputs": [],
      "source": [
        "from PIL import Image, ImageDraw\n",
        "\n",
        "img = Image.new('1', (256,191))\n",
        "\n",
        "img"
      ]
    },
    {
      "cell_type": "markdown",
      "id": "ae8648e0",
      "metadata": {
        "id": "ae8648e0"
      },
      "source": [
        "## Os pontos que formam uma imagem\n",
        "\n",
        "Toda imagem é uma matriz de pontos\n",
        "\n",
        "A matriz tem duas dimensões (largura e altura)\n",
        "\n",
        "Cada ponto ocupa uma posição (x,y) na matriz\n",
        "\n",
        "A posição <code>(0,0)</code> fica no canto superior esquerdo da imagem é chamada de <code>origem</code>\n",
        "\n",
        "Para localizar qualqur ponto na imagem, usamos um par de números (x,y) com os valores da *largura* e da *altura* onde encontramos esse ponto relativo à *origem*\n"
      ]
    },
    {
      "cell_type": "code",
      "execution_count": null,
      "id": "394f27ee",
      "metadata": {
        "id": "394f27ee"
      },
      "outputs": [],
      "source": [
        "from PIL import Image, ImageDraw\n",
        "\n",
        "img = Image.new('1',(8,8))\n",
        "\n",
        "pixels = [\n",
        "    1,0,0,0,0,0,0,1,\n",
        "    0,0,0,0,0,0,0,0,\n",
        "    0,0,0,0,0,0,0,0,\n",
        "    0,0,0,1,0,0,0,0,\n",
        "    0,0,0,0,0,0,0,0,\n",
        "    0,0,0,0,0,0,0,0,\n",
        "    0,0,0,0,0,0,0,0,\n",
        "    0,0,0,0,0,0,0,0,\n",
        "]\n",
        "\n",
        "img.putdata(pixels)\n",
        "\n",
        "img"
      ]
    },
    {
      "cell_type": "markdown",
      "id": "874b78cc",
      "metadata": {
        "id": "874b78cc"
      },
      "source": [
        "## Do monocromático ao RGB\n",
        "\n",
        "- R, red = Vermelho\n",
        "- G, green = Verde\n",
        "- B, blue = Azul\n",
        "\n",
        "Cada ponto colorido é formado pela combinação das três cores primárias, RGB.\n",
        "\n",
        "Usamos uma tupla de três valores (RGB) para definir cada ponto.\n",
        "\n",
        "Cada cor tem um nível de <code>intensidade</code>, que pode ir do <code>0</code> (mais fraca, mais dessaturada) até <code>255</code> (mais forte, mais saturada)\n",
        "\n",
        "- (R, G, B) ---> (255, 0, 0) - Esta tupla define um vermelho com intensidade máxima\n",
        "- (R, G, B) ---> (255, 0, 255) - Esta tupla define um magenta com intensidade máxima\n",
        "- (R, G, B) ---> (128, 0, 128) - Esta tupla define um magenta com intensidade média"
      ]
    },
    {
      "cell_type": "code",
      "execution_count": null,
      "id": "28a9905d",
      "metadata": {
        "id": "28a9905d"
      },
      "outputs": [],
      "source": [
        "from PIL import Image, ImageDraw\n",
        "\n",
        "img = Image.new('RGB',(8,8))\n",
        "\n",
        "pixels = [\n",
        "    (0,0,0),(0,0,255),(0,255,0),(255,0,0),(0,0,0),(255,0,0),(0,255,0),(0,0,255),\n",
        "    (0,0,0),(0,0,255),(0,255,0),(255,0,0),(0,0,0),(255,0,0),(0,255,0),(0,0,255),\n",
        "    (0,0,0),(0,0,255),(0,255,0),(255,0,0),(0,0,0),(255,0,0),(0,255,0),(0,0,255),\n",
        "    (0,0,0),(0,0,255),(0,255,0),(255,0,0),(0,0,0),(255,0,0),(0,255,0),(0,0,255),\n",
        "    (0,0,0),(0,0,0),(0,0,0),(0,0,0),(0,0,0),(0,0,0),(0,0,0),(0,0,0),\n",
        "    (0,0,0),(0,0,0),(0,0,0),(0,0,0),(0,0,0),(0,0,0),(0,0,0),(0,0,0),\n",
        "    (0,0,0),(0,0,0),(0,0,0),(0,0,0),(0,0,0),(0,0,0),(0,0,0),(0,0,0),\n",
        "    (0,0,0),(0,0,0),(0,0,0),(0,0,0),(0,0,0),(0,0,0),(0,0,0),(0,0,0),\n",
        "]\n",
        "\n",
        "img.putdata(pixels)\n",
        "\n",
        "img.resize((191,191), resample=Image.BOX)"
      ]
    },
    {
      "cell_type": "markdown",
      "id": "fe917b8d-a90a-47d4-a0b3-202faa243c19",
      "metadata": {
        "id": "fe917b8d-a90a-47d4-a0b3-202faa243c19"
      },
      "source": [
        "## Linha por linha"
      ]
    },
    {
      "cell_type": "markdown",
      "id": "41bdfbc6-2c56-42a5-b8e2-ead063fd10c0",
      "metadata": {
        "id": "41bdfbc6-2c56-42a5-b8e2-ead063fd10c0"
      },
      "source": [
        "<code>from PIL import Image, ImageDraw</code>\n",
        "\n",
        "\n",
        "- **PIL** biblioteca de código para trabalho com gráficos em Python\n",
        "- *módulos* usados: Image e ImageDraw\n",
        "\n",
        "**Image** contém código para a criação de Imagens\n",
        "\n",
        "**ImageDraw** contém código para desenhar nas imagens que foram criadas usando o módulo *Image*."
      ]
    },
    {
      "cell_type": "markdown",
      "id": "ec92f6bf-f31c-4372-a948-e6cc31d43d57",
      "metadata": {
        "id": "ec92f6bf-f31c-4372-a948-e6cc31d43d57"
      },
      "source": [
        "<code>img = Image.new('1', (256,191))</code>\n",
        "\n",
        "Duas coisas:\n",
        "\n",
        "- cria uma nova imagem\n",
        "- guarda a imagem em uma variável "
      ]
    },
    {
      "cell_type": "markdown",
      "id": "52b42fa3-cb2d-42c0-83a5-0940189f4cf6",
      "metadata": {
        "id": "52b42fa3-cb2d-42c0-83a5-0940189f4cf6"
      },
      "source": [
        "### Primeira parte:\n",
        "\n",
        "<code>img = <bigger>**Image.new('1', (256,191))**</bigger></code>\n",
        "\n",
        "- cria uma nova imagem\n",
        "\n",
        "A imagem é criada usando uma *função* chamada *new* que está no módulo *Image*. \n",
        "\n",
        "### Funções\n",
        "- Trechos de código que executam operações para nós\n",
        "- Podem vir prontas\n",
        "- Podemos criar as nossas"
      ]
    },
    {
      "cell_type": "markdown",
      "id": "af612520-6212-4de8-b07d-52f05588bd9e",
      "metadata": {
        "id": "af612520-6212-4de8-b07d-52f05588bd9e"
      },
      "source": [
        "<code>img = <bigger>**Image.new('1', (256,191))**</bigger></code>\n",
        "\n",
        "**Funções** \n",
        "\n",
        "- tem um nome\n",
        "- são executadas quando chamadas pelo nome\n",
        "- podem precisar de parâmetros para executarem\n",
        "\n",
        "\n",
        "Para usar é preciso saber o nome e quais valores passar para ela como parâmetro\n",
        "\n",
        "Como escrever:\n",
        "\n",
        "<code>nome_da_funcao(parâmetro1, parâmetro2, etc)\n",
        "\n",
        "> Observe a vírgula separando os parâmetros"
      ]
    },
    {
      "cell_type": "markdown",
      "id": "4514060b",
      "metadata": {
        "id": "4514060b"
      },
      "source": [
        "### Exemplo de função - login\n",
        "\n",
        "Quando você faz login em um app ou site\n",
        "\n",
        "<code>função **login(nome, senha)**: resposta = ok ou tente de novo</code>"
      ]
    },
    {
      "cell_type": "markdown",
      "id": "6b7a8a17-38bd-458d-bad9-c47e1fc38bc5",
      "metadata": {
        "id": "6b7a8a17-38bd-458d-bad9-c47e1fc38bc5"
      },
      "source": [
        "<code>img = <bigger>**Image.new('1', (256,191))**</bigger></code>\n",
        "\n",
        "No nosso código, a função <code>new</code>, de <code>Image</code> recebeu 2 parâmetros para criar uma imagem:\n",
        "\n",
        "- modo de cor da imagem\n",
        "- largura e altura da imagem em pixels\n",
        "\n",
        "mas ela pode receber outros valores e também mais parâmetros e criar imagens diferentes *em função* deles"
      ]
    },
    {
      "cell_type": "markdown",
      "id": "9b8bb8b4-6089-4daf-9206-c0ec3d3cc021",
      "metadata": {
        "id": "9b8bb8b4-6089-4daf-9206-c0ec3d3cc021"
      },
      "source": [
        "<code>img = <bigger>**Image.new('1', (256,191))**</bigger></code>\n",
        "\n",
        "Por exemplo:\n"
      ]
    },
    {
      "cell_type": "code",
      "execution_count": null,
      "id": "c5de9ce5-7979-4996-9d22-aaa102424371",
      "metadata": {
        "id": "c5de9ce5-7979-4996-9d22-aaa102424371"
      },
      "outputs": [],
      "source": [
        "from PIL import Image, ImageDraw\n",
        "\n",
        "img = Image.new('RGB', (256,191), color='blue')\n",
        "\n",
        "img"
      ]
    },
    {
      "cell_type": "markdown",
      "id": "0fba2168",
      "metadata": {
        "id": "0fba2168"
      },
      "source": [
        "### Siginificado dos parâmetros\n",
        "\n",
        "<code>img = Image.new('RGB', (256,191), color='blue')</code>\n",
        "\n",
        "- **'RGB'** ou **'1'** - Strings indicando Modo de Cor da imagem\n",
        "- **(256, 191)** - Tupla largura altura\n",
        "- **color=** - Parâmetro com nome, color, e valor 'blue' (String)\n",
        "\n"
      ]
    },
    {
      "cell_type": "markdown",
      "id": "c68bb24c",
      "metadata": {
        "id": "c68bb24c"
      },
      "source": [
        "- <code>String</code> - uma fileira de caracteres (texto, inclusive números e outros)\n",
        "- <code>Tupla</code> - um conjunto de valores em sequência fixa\n"
      ]
    },
    {
      "cell_type": "code",
      "execution_count": null,
      "id": "6f5e57bc",
      "metadata": {
        "id": "6f5e57bc"
      },
      "outputs": [],
      "source": [
        "# Uma string\n",
        "\n",
        "'cores e imagens'\n"
      ]
    },
    {
      "cell_type": "markdown",
      "id": "41ca63da",
      "metadata": {
        "id": "41ca63da"
      },
      "source": [
        "> Strings são escritas entre aspas (simples ou duplas)"
      ]
    },
    {
      "cell_type": "code",
      "execution_count": null,
      "id": "4ecd9db1",
      "metadata": {
        "id": "4ecd9db1"
      },
      "outputs": [],
      "source": [
        "# Uma tupla\n",
        "\n",
        "(10, 50)"
      ]
    },
    {
      "cell_type": "markdown",
      "id": "25fdd024",
      "metadata": {
        "id": "25fdd024"
      },
      "source": [
        "> Tuplas são escritas entre parênteses e os valores separados por vírgulas"
      ]
    },
    {
      "cell_type": "markdown",
      "id": "9cebff08",
      "metadata": {
        "id": "9cebff08"
      },
      "source": [
        "### Segunda parte\n",
        "\n",
        "<code><bigger>img = </bigger> Image.new('1', (256,191))</code>\n",
        "\n",
        "A função <code>Image.new</code>:\n",
        "- Cria uma imagem na memória do computador\n",
        "- Cria um 'objeto' que contém essa imagem\n",
        "- Ele contém várias <code>funções</code> que manipulam essa imagem\n",
        "- Esse objeto ocupa espaço na memória e tem um endereço para ser encontrado quando preciso\n"
      ]
    },
    {
      "cell_type": "markdown",
      "id": "9d5b7831",
      "metadata": {
        "id": "9d5b7831"
      },
      "source": [
        "\n",
        "O sinal de 'igual' significa <code>atribuição</code>.\n",
        "\n",
        "- Atribuímos à variável <code>img</code> o valor do endereço na memória onde está o objeto criado por <code>Image.new</code>\n",
        "- Isso equivale a dizer que **guardamos em** <code>img</code> o objeto retornado por <code>Image.new</code>\n",
        "- Agora, sempre que quisermos usar esse objeto, podemos usar a variável <code>img</code> para encontrá-lo, como se a própria variável fosse o objeto.\n",
        "\n",
        "\n"
      ]
    },
    {
      "cell_type": "markdown",
      "id": "a7617e47",
      "metadata": {
        "id": "a7617e47"
      },
      "source": [
        "## Desenho\n",
        "\n"
      ]
    },
    {
      "cell_type": "markdown",
      "id": "c3bf5a37",
      "metadata": {
        "id": "c3bf5a37"
      },
      "source": [
        "Já temos uma imagem.\n",
        "\n",
        "Para desenhar na imagem usamos um <code>objeto</code> especializado nessa tarefa. \n",
        "\n",
        "> Objetos são como programas auto-contidos, com tarefas bem específicas. Eles executam diversas funções e podem conter outros objetos.\n",
        "\n",
        "Para usar um objeto nós \"pedimos\" a ele que execute uma de suas funções.\n",
        "\n",
        "É como usar um programa de computador, só que mandando mensagens por escrito para esse programa.\n",
        "\n",
        "No programa abaixo, vamos pedir que esse <code>objeto desenhador</code> desenhe um ponto na imagem que já fizemos."
      ]
    },
    {
      "cell_type": "code",
      "execution_count": null,
      "id": "5bee361a",
      "metadata": {
        "id": "5bee361a"
      },
      "outputs": [],
      "source": [
        "from PIL import Image, ImageDraw\n",
        "\n",
        "img = Image.new('RGB', (256, 191))\n",
        "\n",
        "# Para ImageDraw, dizemos: \n",
        "# use a imagem img para criar um objeto que sabe desenhar nela\n",
        "# Depois, guardamos esse objeto na variável chamada desenhador\n",
        "desenhador = ImageDraw.Draw(img)\n",
        "\n",
        "# desenhador agora equivale ao objeto que foi criado\n",
        "# Podemos começar a pedir que ele execute funções com a imagem\n",
        "# que demos a ele\n",
        "\n",
        "# Pedimos que ele desenhe um ponto na posição x=128, y=64\n",
        "desenhador.point((128,64))\n",
        "\n",
        "img"
      ]
    },
    {
      "cell_type": "markdown",
      "id": "4088973d",
      "metadata": {
        "id": "4088973d"
      },
      "source": [
        "Está difícil ver o ponto?\n"
      ]
    },
    {
      "cell_type": "code",
      "execution_count": null,
      "id": "ab8c1a78",
      "metadata": {
        "id": "ab8c1a78"
      },
      "outputs": [],
      "source": [
        "img.resize((768,573))"
      ]
    },
    {
      "cell_type": "markdown",
      "id": "dc3947eb",
      "metadata": {
        "id": "dc3947eb"
      },
      "source": [
        "> Note que <code>img</code> também é um objeto! e que pedimos a ela que executasse a sua função <code>resize()</code> para que ela mudasse de tamanho."
      ]
    },
    {
      "cell_type": "markdown",
      "id": "82557c91",
      "metadata": {
        "id": "82557c91"
      },
      "source": [
        "## Uma linha"
      ]
    },
    {
      "cell_type": "markdown",
      "id": "b437e2ae",
      "metadata": {
        "id": "b437e2ae"
      },
      "source": [
        "Uma linha é uma sequência de pontos que vai de uma posição <code>(x, y)</code> inicial até uma posição <code>(x, y)</code> final.\n",
        "\n",
        "Podemos fazer isso de um jeito fácil ou de um jeito interessante...\n",
        "\n",
        "### jeito fácil de desenhar uma linha\n",
        "\n",
        "Usamos a função pronta, <code>line()</code>, do objeto criado com <code>ImageDraw</code>."
      ]
    },
    {
      "cell_type": "code",
      "execution_count": null,
      "id": "a26a4ad6",
      "metadata": {
        "id": "a26a4ad6"
      },
      "outputs": [],
      "source": [
        "from PIL import Image, ImageDraw\n",
        "\n",
        "img = Image.new('RGB', (256,191))\n",
        "desenhador = ImageDraw.Draw(img)\n",
        "\n",
        "# a função line pede uma tupla de 4 valores\n",
        "# x-inicial, y-inicial, x-final, y-final\n",
        "desenhador.line((32, 64, 212, 64))\n",
        "\n",
        "img"
      ]
    },
    {
      "cell_type": "markdown",
      "id": "e4ed8059",
      "metadata": {
        "id": "e4ed8059"
      },
      "source": [
        "### jeito interessante de traçar uma linha...\n"
      ]
    },
    {
      "cell_type": "code",
      "execution_count": null,
      "id": "0ec49136",
      "metadata": {
        "id": "0ec49136"
      },
      "outputs": [],
      "source": [
        "from PIL import Image, ImageDraw\n",
        "\n",
        "img = Image.new('RGB', (256,191))\n",
        "desenhador = ImageDraw.Draw(img)\n",
        "\n",
        "desenhador.point((32,64))\n",
        "desenhador.point((32,65))\n",
        "desenhador.point((32,66))\n",
        "desenhador.point((32,67))\n",
        "desenhador.point((32,68))\n",
        "desenhador.point((32,69))\n",
        "desenhador.point((32,70))\n",
        "desenhador.point((32,71))\n",
        "desenhador.point((32,72))\n",
        "desenhador.point((32,73))\n",
        "desenhador.point((32,74))\n",
        "desenhador.point((32,75))\n",
        "desenhador.point((32,76))\n",
        "desenhador.point((32,77))\n",
        "desenhador.point((32,78))\n",
        "desenhador.point((32,79))\n",
        "desenhador.point((32,80))\n",
        "desenhador.point((32,81))\n",
        "desenhador.point((32,82))\n",
        "desenhador.point((32,83))\n",
        "desenhador.point((32,84))\n",
        "\n",
        "img"
      ]
    },
    {
      "cell_type": "markdown",
      "id": "228635db",
      "metadata": {
        "id": "228635db"
      },
      "source": [
        "Note que temos dois valores, x e y, e um deles é fixo e o outro *variável*...\n",
        "\n",
        "Podemos trocar o valor de y por uma variável e fazer o valor da variável mudar enquanto o programa executa para termos um resultado idêntico.\n",
        "\n",
        "Para isso precisamos escrever um <code>loop</code>.\n"
      ]
    },
    {
      "cell_type": "markdown",
      "id": "cc64a975",
      "metadata": {
        "id": "cc64a975"
      },
      "source": [
        "### Loop usando \"for\" e range()"
      ]
    },
    {
      "cell_type": "markdown",
      "id": "5bf39e7c",
      "metadata": {
        "id": "5bf39e7c"
      },
      "source": [
        "O comando \"for\" do Python executa sucessivas vezes um trecho de código. Isso é chamado de loop (laço)."
      ]
    },
    {
      "cell_type": "code",
      "execution_count": null,
      "id": "97ca6e3f",
      "metadata": {
        "id": "97ca6e3f"
      },
      "outputs": [],
      "source": [
        "from PIL import Image, ImageDraw\n",
        "\n",
        "img = Image.new('RGB', (256,191))\n",
        "desenhador = ImageDraw.Draw(img)\n",
        "\n",
        "for y in range(64,84):\n",
        "    desenhador.point((32,y))\n",
        "\n",
        "img"
      ]
    },
    {
      "cell_type": "markdown",
      "id": "96b1128a",
      "metadata": {
        "id": "96b1128a"
      },
      "source": [
        "\n",
        "A quantidade de vezes que o <code>for</code> executa é determinada por um intervalo de valores. O <code>for</code> vai passando de valor em valor e, quando acabam os valores, acaba o loop.\n",
        "\n",
        "Esse intervalo de valores é gerado pela função <code>range()</code>\n",
        "\n",
        "A cada iteração, o valor lido pelo <code>for</code> é atribuído a variável que está declarada na sua linha de código. No nosso caso, a variável é <code>y</code>. \n",
        "\n",
        "\n",
        "> Agora que usamos um <code>loop</code> e variáveis, fica fácil desenhar mais pontos mudando apenas o valor das variáveis, sem escrever mais linhas de código"
      ]
    },
    {
      "cell_type": "code",
      "execution_count": null,
      "id": "a5a10b82",
      "metadata": {
        "id": "a5a10b82"
      },
      "outputs": [],
      "source": [
        "from PIL import Image, ImageDraw\n",
        "\n",
        "img = Image.new('RGB', (256,191))\n",
        "desenhador = ImageDraw.Draw(img)\n",
        "\n",
        "for y in range(32,128):\n",
        "    desenhador.point((64,y))\n",
        "\n",
        "img"
      ]
    },
    {
      "cell_type": "markdown",
      "id": "3a635788",
      "metadata": {
        "id": "3a635788"
      },
      "source": [
        "Podemos acrescentar mais linhas de código no loop e ter outros resultados..."
      ]
    },
    {
      "cell_type": "code",
      "execution_count": null,
      "metadata": {
        "id": "5y-xvk28o8og"
      },
      "outputs": [],
      "source": [
        "from PIL import Image, ImageDraw\n",
        "\n",
        "img = Image.new('RGB', (256,191))\n",
        "desenhador = ImageDraw.Draw(img)\n",
        "\n",
        "for y in range(32,128):\n",
        "    desenhador.point((16,y))\n",
        "    desenhador.point((32,y))\n",
        "    desenhador.point((64,y))\n",
        "    desenhador.point((128,y))\n",
        "    desenhador.point((255,y))\n",
        "\n",
        "img"
      ],
      "id": "5y-xvk28o8og"
    },
    {
      "cell_type": "markdown",
      "id": "9f737185",
      "metadata": {
        "id": "9f737185"
      },
      "source": [
        "Se quisermos variar também o valor de <code>x</code>, precisamos fazer um loop dentro de outro.\n",
        "\n",
        "Agora, a cada iteração do <code>for</code> que contém <code>x</code> o loop do <code>for</code> de <code>y</code> vai ser executado, até o final, usando o valor atual de x. "
      ]
    },
    {
      "cell_type": "code",
      "execution_count": null,
      "id": "bc4fc366",
      "metadata": {
        "id": "bc4fc366"
      },
      "outputs": [],
      "source": [
        "from PIL import Image, ImageDraw\n",
        "\n",
        "img = Image.new('RGB', (256,191))\n",
        "desenhador = ImageDraw.Draw(img)\n",
        "\n",
        "# x varia de 50 a 180\n",
        "for x in range(80,180):\n",
        "    # y varia de 30 a 150\n",
        "    for y in range(40,140):\n",
        "        # esta linha vai ser executada 120 vezes\n",
        "        # usando o valor x=50 e o loop do y vai encerrar\n",
        "        desenhador.point((x,y))\n",
        "        # depois, acontece uma próxima iteração do loop do x,\n",
        "        # e este loop do y volta a ser executado\n",
        "        # 120 vezes, só que agora com x=51, depois\n",
        "        # 120 vezes com x=52, 120 com x=53... \n",
        "        # até x=180, que é quando acaba o loop do x\n",
        "        # ou seja, desenhador.point((x,y)) é executada \n",
        "        # um total de 15.600 vezes!\n",
        "        \n",
        "\n",
        "\n",
        "img"
      ]
    },
    {
      "cell_type": "markdown",
      "id": "e890929d",
      "metadata": {
        "id": "e890929d"
      },
      "source": [
        "A função <code>range()</code> pode gerar um intervalo de valores com \"saltos\".\n",
        "\n",
        "Por exemplo, um intervalo de 10 a 100 mas indo de 2 em 2.\n",
        "\n",
        "<code>10, 12, 14, 16, 18, 20, 22...100</code>\n",
        "\n",
        "Para isso, acresentamos um terceiro parâmetro a sua chamada, indicando o tamanho do \"passo\" que ela vai dar."
      ]
    },
    {
      "cell_type": "code",
      "execution_count": null,
      "id": "a5f62c7a",
      "metadata": {
        "id": "a5f62c7a"
      },
      "outputs": [],
      "source": [
        "from PIL import Image, ImageDraw\n",
        "\n",
        "img = Image.new('RGB', (256,191))\n",
        "des = ImageDraw.Draw(img)\n",
        "\n",
        "for x in range(80,180,2):\n",
        "    for y in range(40,140,2):\n",
        "        des.point((x,y))\n",
        "\n",
        "\n",
        "img.resize((768,573),resample=Image.BOX)"
      ]
    },
    {
      "cell_type": "markdown",
      "id": "f67fa5d3",
      "metadata": {
        "id": "f67fa5d3"
      },
      "source": [
        "## Explorando possibilidades usando aleatoriedade\n",
        "\n",
        "Podemos facilmente variar o *passo* dado pelo loop for se mudarmos o terceiro valor de range. Podemos fazer isso à mão ou podemos deixar que o computador escolha aleatoriamente um valor.\n",
        "\n",
        "Vamos usar uma nova biblioteca, <code>random</code>, que contém funções para gerar números e intervalos aleatórios entre outras funções para lidar com aleatoriedades."
      ]
    },
    {
      "cell_type": "code",
      "execution_count": null,
      "id": "b4887c18",
      "metadata": {
        "id": "b4887c18"
      },
      "outputs": [],
      "source": [
        "from PIL import Image, ImageDraw\n",
        "import random\n",
        "\n",
        "img = Image.new('RGB', (256,191))\n",
        "des = ImageDraw.Draw(img)\n",
        "\n",
        "passo_x = random.randrange(1,8)\n",
        "passo_y = random.randrange(1,8)\n",
        "\n",
        "for x in range(80,180,passo_x):\n",
        "    for y in range(40,140,passo_y):\n",
        "        des.point((x,y))\n",
        "\n",
        "\n",
        "img.resize((768,573),resample=Image.BOX)"
      ]
    },
    {
      "cell_type": "markdown",
      "id": "2b19e06b",
      "metadata": {
        "id": "2b19e06b"
      },
      "source": [
        "## Cores escolhidas aleatoriamente\n"
      ]
    },
    {
      "cell_type": "code",
      "execution_count": null,
      "id": "63767ae5",
      "metadata": {
        "id": "63767ae5"
      },
      "outputs": [],
      "source": [
        "from PIL import Image, ImageDraw\n",
        "import random\n",
        "\n",
        "img = Image.new('RGB', (256,191))\n",
        "des = ImageDraw.Draw(img)\n",
        "\n",
        "passo_x = random.randrange(1,8)\n",
        "passo_y = random.randrange(1,8)\n",
        "\n",
        "cores = ['red', 'green', 'blue', 'cyan', 'magenta', 'yellow', 'black', 'white']\n",
        "\n",
        "for x in range(80,180,passo_x):\n",
        "    \n",
        "    for y in range(40,140,passo_y):\n",
        "        cor = random.choice(cores)\n",
        "        des.point((x,y),cor)\n",
        "\n",
        "\n",
        "img.resize((768,573), resample=Image.BOX)\n"
      ]
    }
  ],
  "metadata": {
    "kernelspec": {
      "display_name": "Python 3.10.6 ('jupyter01')",
      "language": "python",
      "name": "python3"
    },
    "language_info": {
      "codemirror_mode": {
        "name": "ipython",
        "version": 3
      },
      "file_extension": ".py",
      "mimetype": "text/x-python",
      "name": "python",
      "nbconvert_exporter": "python",
      "pygments_lexer": "ipython3",
      "version": "3.10.6"
    },
    "vscode": {
      "interpreter": {
        "hash": "ab620e2a6cbf15a6c2ce9772e08bbac252d20273eb0db9fa157d03fbce859dc6"
      }
    },
    "colab": {
      "provenance": [],
      "toc_visible": true,
      "include_colab_link": true
    }
  },
  "nbformat": 4,
  "nbformat_minor": 5
}